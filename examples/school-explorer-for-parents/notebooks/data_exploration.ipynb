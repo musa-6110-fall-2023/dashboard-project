{
 "cells": [
  {
   "cell_type": "code",
   "execution_count": 3,
   "metadata": {},
   "outputs": [],
   "source": [
    "import pandas as pd\n",
    "import pathlib\n",
    "import os"
   ]
  },
  {
   "cell_type": "code",
   "execution_count": 4,
   "metadata": {},
   "outputs": [],
   "source": [
    "ROOT = pathlib.Path(os.getcwd()).parent\n",
    "school_list_df = pd.read_csv(ROOT / 'opt' / 'schools.2022_2023.csv')"
   ]
  },
  {
   "cell_type": "code",
   "execution_count": 3,
   "metadata": {},
   "outputs": [
    {
     "data": {
      "text/html": [
       "<div>\n",
       "<style scoped>\n",
       "    .dataframe tbody tr th:only-of-type {\n",
       "        vertical-align: middle;\n",
       "    }\n",
       "\n",
       "    .dataframe tbody tr th {\n",
       "        vertical-align: top;\n",
       "    }\n",
       "\n",
       "    .dataframe thead th {\n",
       "        text-align: right;\n",
       "    }\n",
       "</style>\n",
       "<table border=\"1\" class=\"dataframe\">\n",
       "  <thead>\n",
       "    <tr style=\"text-align: right;\">\n",
       "      <th></th>\n",
       "      <th>PA Code</th>\n",
       "      <th>NSC Code</th>\n",
       "      <th>NCES Code</th>\n",
       "      <th>AUN Code</th>\n",
       "      <th>ULCS Code</th>\n",
       "      <th>SRC School ID</th>\n",
       "      <th>School Name (ULCS)</th>\n",
       "      <th>Publication Name</th>\n",
       "      <th>Publication Name Alpha List</th>\n",
       "      <th>Abbreviated Name</th>\n",
       "      <th>...</th>\n",
       "      <th>Grade 3</th>\n",
       "      <th>Grade 4</th>\n",
       "      <th>Grade 5</th>\n",
       "      <th>Grade 6</th>\n",
       "      <th>Grade 7</th>\n",
       "      <th>Grade 8</th>\n",
       "      <th>Grade 9</th>\n",
       "      <th>Grade 10</th>\n",
       "      <th>Grade 11</th>\n",
       "      <th>Grade 12</th>\n",
       "    </tr>\n",
       "  </thead>\n",
       "  <tbody>\n",
       "    <tr>\n",
       "      <th>0</th>\n",
       "      <td>3847.0</td>\n",
       "      <td>393345</td>\n",
       "      <td>4.218990e+11</td>\n",
       "      <td>126515001</td>\n",
       "      <td>1010</td>\n",
       "      <td>101</td>\n",
       "      <td>JOHN BARTRAM HIGH SCHOOL</td>\n",
       "      <td>John Bartram High School</td>\n",
       "      <td>Bartram, John High School</td>\n",
       "      <td>Bartram</td>\n",
       "      <td>...</td>\n",
       "      <td>0</td>\n",
       "      <td>0</td>\n",
       "      <td>0</td>\n",
       "      <td>0</td>\n",
       "      <td>0</td>\n",
       "      <td>0</td>\n",
       "      <td>1</td>\n",
       "      <td>1</td>\n",
       "      <td>1</td>\n",
       "      <td>1</td>\n",
       "    </tr>\n",
       "    <tr>\n",
       "      <th>1</th>\n",
       "      <td>3860.0</td>\n",
       "      <td>393555</td>\n",
       "      <td>4.218990e+11</td>\n",
       "      <td>126515001</td>\n",
       "      <td>1020</td>\n",
       "      <td>102</td>\n",
       "      <td>WEST PHILADELPHIA HIGH SCHOOL</td>\n",
       "      <td>West Philadelphia High School</td>\n",
       "      <td>West Philadelphia High School</td>\n",
       "      <td>West Philadelphia</td>\n",
       "      <td>...</td>\n",
       "      <td>0</td>\n",
       "      <td>0</td>\n",
       "      <td>0</td>\n",
       "      <td>0</td>\n",
       "      <td>0</td>\n",
       "      <td>0</td>\n",
       "      <td>1</td>\n",
       "      <td>1</td>\n",
       "      <td>1</td>\n",
       "      <td>1</td>\n",
       "    </tr>\n",
       "    <tr>\n",
       "      <th>2</th>\n",
       "      <td>7903.0</td>\n",
       "      <td>392779</td>\n",
       "      <td>4.218990e+11</td>\n",
       "      <td>126515001</td>\n",
       "      <td>1030</td>\n",
       "      <td>103</td>\n",
       "      <td>HIGH SCHOOL OF THE FUTURE</td>\n",
       "      <td>High School of the Future</td>\n",
       "      <td>High School of the Future</td>\n",
       "      <td>HS of Future</td>\n",
       "      <td>...</td>\n",
       "      <td>0</td>\n",
       "      <td>0</td>\n",
       "      <td>0</td>\n",
       "      <td>0</td>\n",
       "      <td>0</td>\n",
       "      <td>0</td>\n",
       "      <td>1</td>\n",
       "      <td>1</td>\n",
       "      <td>1</td>\n",
       "      <td>1</td>\n",
       "    </tr>\n",
       "    <tr>\n",
       "      <th>3</th>\n",
       "      <td>7780.0</td>\n",
       "      <td>393347</td>\n",
       "      <td>4.218990e+11</td>\n",
       "      <td>126515001</td>\n",
       "      <td>1050</td>\n",
       "      <td>105</td>\n",
       "      <td>PAUL ROBESON HIGH SCHOOL</td>\n",
       "      <td>Paul Robeson High School for Human Services</td>\n",
       "      <td>Robeson, Paul High School for Human Services</td>\n",
       "      <td>Robeson</td>\n",
       "      <td>...</td>\n",
       "      <td>0</td>\n",
       "      <td>0</td>\n",
       "      <td>0</td>\n",
       "      <td>0</td>\n",
       "      <td>0</td>\n",
       "      <td>0</td>\n",
       "      <td>1</td>\n",
       "      <td>1</td>\n",
       "      <td>1</td>\n",
       "      <td>1</td>\n",
       "    </tr>\n",
       "    <tr>\n",
       "      <th>4</th>\n",
       "      <td>7245.0</td>\n",
       "      <td>393944</td>\n",
       "      <td>4.218990e+11</td>\n",
       "      <td>126515001</td>\n",
       "      <td>1100</td>\n",
       "      <td>110</td>\n",
       "      <td>SAYRE HIGH SCHOOL</td>\n",
       "      <td>William L. Sayre High School</td>\n",
       "      <td>Sayre, William L. High School</td>\n",
       "      <td>Sayre</td>\n",
       "      <td>...</td>\n",
       "      <td>0</td>\n",
       "      <td>0</td>\n",
       "      <td>0</td>\n",
       "      <td>0</td>\n",
       "      <td>0</td>\n",
       "      <td>0</td>\n",
       "      <td>1</td>\n",
       "      <td>1</td>\n",
       "      <td>1</td>\n",
       "      <td>1</td>\n",
       "    </tr>\n",
       "  </tbody>\n",
       "</table>\n",
       "<p>5 rows × 56 columns</p>\n",
       "</div>"
      ],
      "text/plain": [
       "   PA Code NSC Code     NCES Code   AUN Code  ULCS Code SRC School ID  \\\n",
       "0   3847.0   393345  4.218990e+11  126515001       1010           101   \n",
       "1   3860.0   393555  4.218990e+11  126515001       1020           102   \n",
       "2   7903.0   392779  4.218990e+11  126515001       1030           103   \n",
       "3   7780.0   393347  4.218990e+11  126515001       1050           105   \n",
       "4   7245.0   393944  4.218990e+11  126515001       1100           110   \n",
       "\n",
       "              School Name (ULCS)                             Publication Name  \\\n",
       "0       JOHN BARTRAM HIGH SCHOOL                     John Bartram High School   \n",
       "1  WEST PHILADELPHIA HIGH SCHOOL                West Philadelphia High School   \n",
       "2      HIGH SCHOOL OF THE FUTURE                    High School of the Future   \n",
       "3       PAUL ROBESON HIGH SCHOOL  Paul Robeson High School for Human Services   \n",
       "4              SAYRE HIGH SCHOOL                 William L. Sayre High School   \n",
       "\n",
       "                    Publication Name Alpha List   Abbreviated Name  ...  \\\n",
       "0                     Bartram, John High School            Bartram  ...   \n",
       "1                 West Philadelphia High School  West Philadelphia  ...   \n",
       "2                     High School of the Future       HS of Future  ...   \n",
       "3  Robeson, Paul High School for Human Services            Robeson  ...   \n",
       "4                 Sayre, William L. High School              Sayre  ...   \n",
       "\n",
       "   Grade 3 Grade 4 Grade 5 Grade 6 Grade 7  Grade 8  Grade 9 Grade 10  \\\n",
       "0        0       0       0       0       0        0        1        1   \n",
       "1        0       0       0       0       0        0        1        1   \n",
       "2        0       0       0       0       0        0        1        1   \n",
       "3        0       0       0       0       0        0        1        1   \n",
       "4        0       0       0       0       0        0        1        1   \n",
       "\n",
       "  Grade 11 Grade 12  \n",
       "0        1        1  \n",
       "1        1        1  \n",
       "2        1        1  \n",
       "3        1        1  \n",
       "4        1        1  \n",
       "\n",
       "[5 rows x 56 columns]"
      ]
     },
     "execution_count": 3,
     "metadata": {},
     "output_type": "execute_result"
    }
   ],
   "source": [
    "school_list_df.head()"
   ]
  },
  {
   "cell_type": "code",
   "execution_count": 4,
   "metadata": {},
   "outputs": [
    {
     "data": {
      "text/plain": [
       "count                          325\n",
       "unique                         325\n",
       "top       JOHN BARTRAM HIGH SCHOOL\n",
       "freq                             1\n",
       "Name: School Name (ULCS), dtype: object"
      ]
     },
     "execution_count": 4,
     "metadata": {},
     "output_type": "execute_result"
    }
   ],
   "source": [
    "school_list_df['School Name (ULCS)'].describe()"
   ]
  },
  {
   "cell_type": "code",
   "execution_count": 5,
   "metadata": {},
   "outputs": [
    {
     "data": {
      "text/plain": [
       "count                          325\n",
       "unique                         325\n",
       "top       John Bartram High School\n",
       "freq                             1\n",
       "Name: Publication Name, dtype: object"
      ]
     },
     "execution_count": 5,
     "metadata": {},
     "output_type": "execute_result"
    }
   ],
   "source": [
    "school_list_df['Publication Name'].describe()"
   ]
  },
  {
   "cell_type": "code",
   "execution_count": 6,
   "metadata": {},
   "outputs": [
    {
     "data": {
      "text/plain": [
       "count                           325\n",
       "unique                          325\n",
       "top       Bartram, John High School\n",
       "freq                              1\n",
       "Name: Publication Name Alpha List, dtype: object"
      ]
     },
     "execution_count": 6,
     "metadata": {},
     "output_type": "execute_result"
    }
   ],
   "source": [
    "school_list_df['Publication Name Alpha List'].describe()"
   ]
  },
  {
   "cell_type": "code",
   "execution_count": 8,
   "metadata": {},
   "outputs": [],
   "source": [
    "school_names_df = school_list_df[['Publication Name', 'School Name (ULCS)']]"
   ]
  },
  {
   "cell_type": "code",
   "execution_count": 9,
   "metadata": {},
   "outputs": [
    {
     "name": "stderr",
     "output_type": "stream",
     "text": [
      "/tmp/ipykernel_600852/2246864262.py:1: SettingWithCopyWarning: \n",
      "A value is trying to be set on a copy of a slice from a DataFrame.\n",
      "Try using .loc[row_indexer,col_indexer] = value instead\n",
      "\n",
      "See the caveats in the documentation: https://pandas.pydata.org/pandas-docs/stable/user_guide/indexing.html#returning-a-view-versus-a-copy\n",
      "  school_names_df['Upper Publication Name'] = school_names_df['Publication Name'].str.upper()\n"
     ]
    }
   ],
   "source": [
    "school_names_df['Upper Publication Name'] = school_names_df['Publication Name'].str.upper()"
   ]
  },
  {
   "cell_type": "code",
   "execution_count": 11,
   "metadata": {},
   "outputs": [
    {
     "data": {
      "text/html": [
       "<div>\n",
       "<style scoped>\n",
       "    .dataframe tbody tr th:only-of-type {\n",
       "        vertical-align: middle;\n",
       "    }\n",
       "\n",
       "    .dataframe tbody tr th {\n",
       "        vertical-align: top;\n",
       "    }\n",
       "\n",
       "    .dataframe thead th {\n",
       "        text-align: right;\n",
       "    }\n",
       "</style>\n",
       "<table border=\"1\" class=\"dataframe\">\n",
       "  <thead>\n",
       "    <tr style=\"text-align: right;\">\n",
       "      <th></th>\n",
       "      <th>Publication Name</th>\n",
       "      <th>School Name (ULCS)</th>\n",
       "      <th>Upper Publication Name</th>\n",
       "    </tr>\n",
       "  </thead>\n",
       "  <tbody>\n",
       "    <tr>\n",
       "      <th>3</th>\n",
       "      <td>Paul Robeson High School for Human Services</td>\n",
       "      <td>PAUL ROBESON HIGH SCHOOL</td>\n",
       "      <td>PAUL ROBESON HIGH SCHOOL FOR HUMAN SERVICES</td>\n",
       "    </tr>\n",
       "    <tr>\n",
       "      <th>4</th>\n",
       "      <td>William L. Sayre High School</td>\n",
       "      <td>SAYRE HIGH SCHOOL</td>\n",
       "      <td>WILLIAM L. SAYRE HIGH SCHOOL</td>\n",
       "    </tr>\n",
       "    <tr>\n",
       "      <th>5</th>\n",
       "      <td>William T. Tilden School</td>\n",
       "      <td>TILDEN MIDDLE SCHOOL</td>\n",
       "      <td>WILLIAM T. TILDEN SCHOOL</td>\n",
       "    </tr>\n",
       "    <tr>\n",
       "      <th>7</th>\n",
       "      <td>John Barry School</td>\n",
       "      <td>JOHN BARRY ELEMENTARY SCHOOL</td>\n",
       "      <td>JOHN BARRY SCHOOL</td>\n",
       "    </tr>\n",
       "    <tr>\n",
       "      <th>11</th>\n",
       "      <td>Sadie Alexander School</td>\n",
       "      <td>PENN ALEXANDER SCHOOL</td>\n",
       "      <td>SADIE ALEXANDER SCHOOL</td>\n",
       "    </tr>\n",
       "    <tr>\n",
       "      <th>...</th>\n",
       "      <td>...</td>\n",
       "      <td>...</td>\n",
       "      <td>...</td>\n",
       "    </tr>\n",
       "    <tr>\n",
       "      <th>314</th>\n",
       "      <td>Philadelphia Learning Academy South</td>\n",
       "      <td>PHILA LEARNING ACADEMY-SOUTH</td>\n",
       "      <td>PHILADELPHIA LEARNING ACADEMY SOUTH</td>\n",
       "    </tr>\n",
       "    <tr>\n",
       "      <th>315</th>\n",
       "      <td>Philadelphia Learning Academy North</td>\n",
       "      <td>PHILA LEARNING ACADEMY-NORTH</td>\n",
       "      <td>PHILADELPHIA LEARNING ACADEMY NORTH</td>\n",
       "    </tr>\n",
       "    <tr>\n",
       "      <th>319</th>\n",
       "      <td>John Hancock Demonstration School</td>\n",
       "      <td>HANCOCK DEMONSTRATION SCHOOL</td>\n",
       "      <td>JOHN HANCOCK DEMONSTRATION SCHOOL</td>\n",
       "    </tr>\n",
       "    <tr>\n",
       "      <th>321</th>\n",
       "      <td>One Bright Ray Mansion</td>\n",
       "      <td>ONE BRIGHT RAY MANSION ACCEL</td>\n",
       "      <td>ONE BRIGHT RAY MANSION</td>\n",
       "    </tr>\n",
       "    <tr>\n",
       "      <th>323</th>\n",
       "      <td>One Bright Ray - Simpson Campus</td>\n",
       "      <td>ONE BRIGHT RAY-SIMPSON CAMPUS</td>\n",
       "      <td>ONE BRIGHT RAY - SIMPSON CAMPUS</td>\n",
       "    </tr>\n",
       "  </tbody>\n",
       "</table>\n",
       "<p>155 rows × 3 columns</p>\n",
       "</div>"
      ],
      "text/plain": [
       "                                Publication Name  \\\n",
       "3    Paul Robeson High School for Human Services   \n",
       "4                   William L. Sayre High School   \n",
       "5                       William T. Tilden School   \n",
       "7                              John Barry School   \n",
       "11                        Sadie Alexander School   \n",
       "..                                           ...   \n",
       "314          Philadelphia Learning Academy South   \n",
       "315          Philadelphia Learning Academy North   \n",
       "319            John Hancock Demonstration School   \n",
       "321                       One Bright Ray Mansion   \n",
       "323              One Bright Ray - Simpson Campus   \n",
       "\n",
       "                School Name (ULCS)  \\\n",
       "3         PAUL ROBESON HIGH SCHOOL   \n",
       "4                SAYRE HIGH SCHOOL   \n",
       "5             TILDEN MIDDLE SCHOOL   \n",
       "7     JOHN BARRY ELEMENTARY SCHOOL   \n",
       "11           PENN ALEXANDER SCHOOL   \n",
       "..                             ...   \n",
       "314   PHILA LEARNING ACADEMY-SOUTH   \n",
       "315   PHILA LEARNING ACADEMY-NORTH   \n",
       "319   HANCOCK DEMONSTRATION SCHOOL   \n",
       "321   ONE BRIGHT RAY MANSION ACCEL   \n",
       "323  ONE BRIGHT RAY-SIMPSON CAMPUS   \n",
       "\n",
       "                          Upper Publication Name  \n",
       "3    PAUL ROBESON HIGH SCHOOL FOR HUMAN SERVICES  \n",
       "4                   WILLIAM L. SAYRE HIGH SCHOOL  \n",
       "5                       WILLIAM T. TILDEN SCHOOL  \n",
       "7                              JOHN BARRY SCHOOL  \n",
       "11                        SADIE ALEXANDER SCHOOL  \n",
       "..                                           ...  \n",
       "314          PHILADELPHIA LEARNING ACADEMY SOUTH  \n",
       "315          PHILADELPHIA LEARNING ACADEMY NORTH  \n",
       "319            JOHN HANCOCK DEMONSTRATION SCHOOL  \n",
       "321                       ONE BRIGHT RAY MANSION  \n",
       "323              ONE BRIGHT RAY - SIMPSON CAMPUS  \n",
       "\n",
       "[155 rows x 3 columns]"
      ]
     },
     "execution_count": 11,
     "metadata": {},
     "output_type": "execute_result"
    }
   ],
   "source": [
    "school_names_df.query('`Upper Publication Name` != `School Name (ULCS)`')"
   ]
  },
  {
   "cell_type": "code",
   "execution_count": 5,
   "metadata": {},
   "outputs": [
    {
     "data": {
      "text/plain": [
       "Index(['PA Code', 'NSC Code', 'NCES Code', 'AUN Code', 'ULCS Code',\n",
       "       'SRC School ID', 'School Name (ULCS)', 'Publication Name',\n",
       "       'Publication Name Alpha List', 'Abbreviated Name', 'Year Opened',\n",
       "       'School Level', 'Admission Type', 'Current Grade Span Served',\n",
       "       'Grade Span at Scale', 'Phasing-In', 'Phasing-Out', 'Governance',\n",
       "       'Management Organization', 'School Reporting Category',\n",
       "       'Alternate Education Type', 'Major Intervention',\n",
       "       'Major Intervention Year', 'Community School Cohort', 'CTE Status',\n",
       "       'Title I Designation', 'Federal Accountability Designation',\n",
       "       'City Council District', 'GPS Location', 'Multiple Addresses',\n",
       "       'Street Address', 'City', 'State', 'Zip Code', 'Phone Number',\n",
       "       'Fax Number', 'Website', 'School Leader Name', 'Learning Network',\n",
       "       'Assistant Superintendent', 'FACE Liaison Name', 'FACE Liaison Email',\n",
       "       'FACE Liaison Phone Number', 'Grade K', 'Grade 1', 'Grade 2', 'Grade 3',\n",
       "       'Grade 4', 'Grade 5', 'Grade 6', 'Grade 7', 'Grade 8', 'Grade 9',\n",
       "       'Grade 10', 'Grade 11', 'Grade 12'],\n",
       "      dtype='object')"
      ]
     },
     "execution_count": 5,
     "metadata": {},
     "output_type": "execute_result"
    }
   ],
   "source": [
    "school_list_df.columns"
   ]
  },
  {
   "cell_type": "code",
   "execution_count": 8,
   "metadata": {},
   "outputs": [
    {
     "data": {
      "text/plain": [
       "0      [39.92149737, -75.23405562]\n",
       "1          [39.958110, -75.219654]\n",
       "2       [39.97465766, -75.2047566]\n",
       "3      [39.95679553, -75.20476311]\n",
       "4      [39.95759354, -75.23859405]\n",
       "                  ...             \n",
       "320    [39.96102159, -75.16264405]\n",
       "321    [39.99074371, -75.18402464]\n",
       "322    [39.99074371, -75.18402464]\n",
       "323       [40.00528, -75.10560096]\n",
       "324    [39.96102159, -75.16264405]\n",
       "Name: GPS Location, Length: 325, dtype: object"
      ]
     },
     "execution_count": 8,
     "metadata": {},
     "output_type": "execute_result"
    }
   ],
   "source": [
    "school_list_df['GPS Location'].str.split(', ')"
   ]
  }
 ],
 "metadata": {
  "kernelspec": {
   "display_name": "Python 3.10.4 ('project-school-explorer-sample')",
   "language": "python",
   "name": "python3"
  },
  "language_info": {
   "codemirror_mode": {
    "name": "ipython",
    "version": 3
   },
   "file_extension": ".py",
   "mimetype": "text/x-python",
   "name": "python",
   "nbconvert_exporter": "python",
   "pygments_lexer": "ipython3",
   "version": "3.10.4"
  },
  "orig_nbformat": 4,
  "vscode": {
   "interpreter": {
    "hash": "a749ac54738b3307d4fedf39795ad9b4a371fdbb3c8d3448a6694e7fae38c9a0"
   }
  }
 },
 "nbformat": 4,
 "nbformat_minor": 2
}
